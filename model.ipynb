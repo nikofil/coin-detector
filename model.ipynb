{
 "cells": [
  {
   "cell_type": "code",
   "execution_count": 12,
   "metadata": {
    "collapsed": false
   },
   "outputs": [],
   "source": [
    "import tensorflow as tf\n",
    "import numpy as np\n",
    "import matplotlib.pyplot as plt\n",
    "import os"
   ]
  },
  {
   "cell_type": "markdown",
   "metadata": {},
   "source": [
    "Read the data"
   ]
  },
  {
   "cell_type": "code",
   "execution_count": 53,
   "metadata": {
    "collapsed": false
   },
   "outputs": [],
   "source": [
    "coin_vals = np.array([5, 10, 20, 50, 100, 200, 500])\n",
    "\n",
    "X = []\n",
    "y = []\n",
    "\n",
    "for val in coin_vals:\n",
    "    path = os.path.join('data', str(val))\n",
    "    for file in os.listdir(path):\n",
    "        if file.endswith(\".png\"):\n",
    "            imgdata = plt.imread(os.path.join(path, file))[0:100, 0:100, 0]\n",
    "            X.append(imgdata)\n",
    "            y.append(coin_vals == val)\n",
    "\n",
    "X = np.array(X)\n",
    "y = np.array(y, dtype=np.float32)\n"
   ]
  },
  {
   "cell_type": "markdown",
   "metadata": {},
   "source": [
    "Create our model"
   ]
  },
  {
   "cell_type": "code",
   "execution_count": 77,
   "metadata": {
    "collapsed": false
   },
   "outputs": [],
   "source": [
    "sess = tf.Session()\n",
    "with sess:\n",
    "    x = tf.placeholder(tf.float32, [None, 100, 100, 1])\n",
    "    y_ = tf.placeholder(tf.float32, [None, 7])\n",
    "    \n",
    "    W1 = tf.Variable(tf.truncated_normal([5, 5, 1, 8], stddev=0.3))\n",
    "    b1 = tf.Variable(tf.constant(0.3 * np.ones([50, 50, 8]), dtype=tf.float32))\n",
    "    \n",
    "    W2 = tf.Variable(tf.truncated_normal([3, 3, 8, 16], stddev=0.3))\n",
    "    b2 = tf.Variable(tf.constant(0.3 * np.ones([25, 25, 16]), dtype=tf.float32))\n",
    "    \n",
    "    W3 = tf.Variable(tf.truncated_normal([12, 7], stddev=0.3))\n",
    "    b3 = tf.Variable(tf.constant(0.3 * np.ones([7]), dtype=tf.float32))\n",
    "    \n",
    "    def pipeline(x):\n",
    "        h1 = x\n",
    "        h1 = tf.nn.max_pool(h1, [1, 2, 2, 1], [1, 2, 2, 1], 'VALID')\n",
    "        h1 = tf.nn.conv2d(h1, W1, [1, 1, 1, 1], 'SAME') + b1\n",
    "        h1 = tf.nn.relu(h1)\n",
    "        \n",
    "        h2 = tf.nn.max_pool(h1, [1, 2, 2, 1], [1, 2, 2, 1], 'VALID')\n",
    "        h2 = tf.nn.conv2d(h2, W2, [1, 1, 1, 1], 'SAME') + b2\n",
    "        h2 = tf.nn.relu(h2)\n",
    "        \n",
    "        out = tf.nn.max_pool(h2, [1, 2, 2, 1], [1, 2, 2, 1], 'VALID')\n",
    "        out = tf.reshape(out, [-1, 12])\n",
    "        out = tf.matmul(out, W3) + b3\n",
    "        \n",
    "        return out\n",
    "    \n",
    "    cost = tf.reduce_mean(tf.nn.softmax_cross_entropy_with_logits(labels=y_, logits=pipeline(x)))\n",
    "    train_task = tf.train.GradientDescentOptimizer(0.05).minimize(cost)\n",
    "    sess.run(tf.global_variables_initializer())"
   ]
  },
  {
   "cell_type": "code",
   "execution_count": null,
   "metadata": {
    "collapsed": true
   },
   "outputs": [],
   "source": []
  }
 ],
 "metadata": {},
 "nbformat": 4,
 "nbformat_minor": 2
}
