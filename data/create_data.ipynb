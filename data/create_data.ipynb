{
 "cells": [
  {
   "cell_type": "code",
   "execution_count": null,
   "metadata": {
    "collapsed": false,
    "deletable": true,
    "editable": true
   },
   "outputs": [],
   "source": [
    "from matplotlib import pyplot as plt\n",
    "import numpy as np\n",
    "from PIL import Image\n",
    "from scipy import ndimage\n",
    "import os\n",
    "\n",
    "%matplotlib inline"
   ]
  },
  {
   "cell_type": "code",
   "execution_count": null,
   "metadata": {
    "collapsed": false,
    "deletable": true,
    "editable": true
   },
   "outputs": [],
   "source": [
    "original_dir = '/home/nikos/workspace/coin-detector/data/5'\n",
    "original = os.path.join(original_dir, 'orig.jpg')\n",
    "\n",
    "img = np.copy(np.asarray(Image.open(original, 'r')))\n",
    "\n",
    "if img.ndim == 3:\n",
    "    img = np.mean(img, 2)\n",
    "\n",
    "randval = np.random.randint(0, 50)\n",
    "img[img >= 245] = randval\n",
    "\n",
    "half = img.shape[1] / 2\n",
    "front = img[:, 0:int(half)]\n",
    "back = img[:, int(half):]\n",
    "\n",
    "fig = plt.figure()\n",
    "fig.add_subplot(1,2,1)\n",
    "plt.imshow(front)\n",
    "fig.add_subplot(1,2,2)\n",
    "plt.imshow(back)\n"
   ]
  },
  {
   "cell_type": "code",
   "execution_count": null,
   "metadata": {
    "collapsed": false,
    "deletable": true,
    "editable": true
   },
   "outputs": [],
   "source": [
    "rotate = lambda img, rot: ndimage.interpolation.rotate(img, rot, cval=randval, reshape=False)\n",
    "\n",
    "def make_imgs(img):\n",
    "    rots = range(0, 360, 10)\n",
    "    for x in rots:\n",
    "        img = rotate(front, x)\n",
    "        for shad in [0.6, 0.8, 1]:\n",
    "            path = os.path.join(original_dir, '{}-{}.png'.format(x, shad))\n",
    "            plt.imsave(path, img * shad, cmap='gray', vmax=256)\n",
    "            \n",
    "make_imgs(front)"
   ]
  },
  {
   "cell_type": "code",
   "execution_count": null,
   "metadata": {
    "collapsed": true,
    "deletable": true,
    "editable": true
   },
   "outputs": [],
   "source": []
  }
 ],
 "metadata": {
  "kernelspec": {
   "display_name": "Python 3",
   "language": "python",
   "name": "python3"
  },
  "language_info": {
   "codemirror_mode": {
    "name": "ipython",
    "version": 3
   },
   "file_extension": ".py",
   "mimetype": "text/x-python",
   "name": "python",
   "nbconvert_exporter": "python",
   "pygments_lexer": "ipython3",
   "version": "3.5.2"
  }
 },
 "nbformat": 4,
 "nbformat_minor": 2
}
