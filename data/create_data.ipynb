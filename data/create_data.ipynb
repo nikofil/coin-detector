{
 "cells": [
  {
   "cell_type": "code",
   "execution_count": 1,
   "metadata": {
    "collapsed": false,
    "deletable": true,
    "editable": true
   },
   "outputs": [],
   "source": [
    "from matplotlib import pyplot as plt\n",
    "import numpy as np\n",
    "from PIL import Image\n",
    "from scipy import ndimage\n",
    "import os\n",
    "\n",
    "%matplotlib inline"
   ]
  },
  {
   "cell_type": "code",
   "execution_count": 2,
   "metadata": {
    "collapsed": false,
    "deletable": true,
    "editable": true
   },
   "outputs": [
    {
     "ename": "ValueError",
     "evalue": "too many values to unpack (expected 2)",
     "output_type": "error",
     "traceback": [
      "\u001b[0;31m---------------------------------------------------------------------------\u001b[0m",
      "\u001b[0;31mValueError\u001b[0m                                Traceback (most recent call last)",
      "\u001b[0;32m<ipython-input-2-c5d8d16599eb>\u001b[0m in \u001b[0;36m<module>\u001b[0;34m()\u001b[0m\n\u001b[1;32m     17\u001b[0m     \u001b[0;32mreturn\u001b[0m \u001b[0;34m(\u001b[0m\u001b[0mfront\u001b[0m\u001b[0;34m,\u001b[0m \u001b[0mback\u001b[0m\u001b[0;34m,\u001b[0m \u001b[0moriginal_dir\u001b[0m\u001b[0;34m)\u001b[0m\u001b[0;34m\u001b[0m\u001b[0m\n\u001b[1;32m     18\u001b[0m \u001b[0;34m\u001b[0m\u001b[0m\n\u001b[0;32m---> 19\u001b[0;31m \u001b[0mfront\u001b[0m\u001b[0;34m,\u001b[0m \u001b[0mback\u001b[0m \u001b[0;34m=\u001b[0m \u001b[0mget_coin_sides\u001b[0m\u001b[0;34m(\u001b[0m\u001b[0;36m100\u001b[0m\u001b[0;34m)\u001b[0m\u001b[0;34m\u001b[0m\u001b[0m\n\u001b[0m\u001b[1;32m     20\u001b[0m \u001b[0mfig\u001b[0m \u001b[0;34m=\u001b[0m \u001b[0mplt\u001b[0m\u001b[0;34m.\u001b[0m\u001b[0mfigure\u001b[0m\u001b[0;34m(\u001b[0m\u001b[0;34m)\u001b[0m\u001b[0;34m\u001b[0m\u001b[0m\n\u001b[1;32m     21\u001b[0m \u001b[0mfig\u001b[0m\u001b[0;34m.\u001b[0m\u001b[0madd_subplot\u001b[0m\u001b[0;34m(\u001b[0m\u001b[0;36m1\u001b[0m\u001b[0;34m,\u001b[0m\u001b[0;36m2\u001b[0m\u001b[0;34m,\u001b[0m\u001b[0;36m1\u001b[0m\u001b[0;34m)\u001b[0m\u001b[0;34m\u001b[0m\u001b[0m\n",
      "\u001b[0;31mValueError\u001b[0m: too many values to unpack (expected 2)"
     ]
    }
   ],
   "source": [
    "randval = np.random.randint(0, 50)\n",
    "\n",
    "def get_coin_sides(val):\n",
    "    original_dir = os.path.join('/home/nikos/workspace/coin-detector/data', str(val))\n",
    "    original = os.path.join(original_dir, 'orig.jpg')\n",
    "\n",
    "    img = np.copy(np.asarray(Image.open(original, 'r')))\n",
    "\n",
    "    if img.ndim == 3:\n",
    "        img = np.mean(img, 2)\n",
    "\n",
    "    img[img >= 245] = randval\n",
    "\n",
    "    half = img.shape[1] / 2\n",
    "    front = img[:, 0:int(half)]\n",
    "    back = img[:, int(half):]\n",
    "    return (front, back, original_dir)\n",
    "\n",
    "front, back = get_coin_sides(100)\n",
    "fig = plt.figure()\n",
    "fig.add_subplot(1,2,1)\n",
    "plt.imshow(front)\n",
    "fig.add_subplot(1,2,2)\n",
    "plt.imshow(back)\n"
   ]
  },
  {
   "cell_type": "code",
   "execution_count": null,
   "metadata": {
    "collapsed": false,
    "deletable": true,
    "editable": true
   },
   "outputs": [],
   "source": [
    "rotate = lambda img, rot: ndimage.interpolation.rotate(img, rot, cval=randval, reshape=False)\n",
    "\n",
    "def make_imgs(img, side, original_dir):\n",
    "    rots = range(0, 360, 10)\n",
    "    for x in rots:\n",
    "        imgrot = rotate(img, x)\n",
    "        for shad in [0.6, 0.8, 1]:\n",
    "            path = os.path.join(original_dir, '{}-{}-{}.png'.format(x, shad, side))\n",
    "            plt.imsave(path, imgrot * shad, cmap='gray', vmax=256)\n",
    "            \n",
    "for val in [5, 10, 20, 50, 100, 200, 500]:\n",
    "    front, back, orig_dir = get_coin_sides(val)\n",
    "    make_imgs(front, 'front', orig_dir)\n",
    "    make_imgs(back, 'back', orig_dir)"
   ]
  },
  {
   "cell_type": "code",
   "execution_count": null,
   "metadata": {
    "collapsed": true,
    "deletable": true,
    "editable": true
   },
   "outputs": [],
   "source": []
  }
 ],
 "metadata": {
  "kernelspec": {
   "display_name": "Python 3",
   "language": "python",
   "name": "python3"
  },
  "language_info": {
   "codemirror_mode": {
    "name": "ipython",
    "version": 3
   },
   "file_extension": ".py",
   "mimetype": "text/x-python",
   "name": "python",
   "nbconvert_exporter": "python",
   "pygments_lexer": "ipython3",
   "version": "3.5.2"
  }
 },
 "nbformat": 4,
 "nbformat_minor": 2
}
